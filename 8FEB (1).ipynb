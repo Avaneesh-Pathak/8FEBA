{
 "cells": [
  {
   "cell_type": "code",
   "execution_count": null,
   "id": "4198d81e-b8b1-413c-934f-d61cfe9d3003",
   "metadata": {},
   "outputs": [],
   "source": [
    "\"\"\" What is Abstraction in OOps? Explain with an example."
   ]
  },
  {
   "cell_type": "code",
   "execution_count": null,
   "id": "c8fb7594-bdf7-4deb-80b2-b059cb256245",
   "metadata": {},
   "outputs": [],
   "source": [
    "Abstraction ini object oriented programming is a techniques of hiding the implementation details and showing\n",
    "only the neccessary information to the user.\n",
    "Making it easier to understand and use."
   ]
  },
  {
   "cell_type": "code",
   "execution_count": null,
   "id": "8627edd9-b308-45cc-b2f9-2ac7caab434c",
   "metadata": {},
   "outputs": [],
   "source": [
    "\"\"\"Differentiate between Abstraction and Encapsulation. Explain with an example."
   ]
  },
  {
   "cell_type": "code",
   "execution_count": null,
   "id": "33e1c0b6-52ee-4175-8c19-2e901a206613",
   "metadata": {},
   "outputs": [],
   "source": [
    "--->  Abstraction refers to hiding the complexity and only showing the essential features of an object to the outside world. \n",
    "It is the process of exposing only necessary information to the user while hiding the implementation details\n",
    "\n",
    "\n",
    "\n",
    "--->  Encapsulation, on the other hand, refers to wrapping data and functions that operate on that data within a single unit, or object. \n",
    "It provides a secure mechanism for storing data by hiding it from the outside world and providing controlled access to it.  "
   ]
  },
  {
   "cell_type": "code",
   "execution_count": null,
   "id": "e830ce30-54c8-4b7a-9d24-896afb8ea0bb",
   "metadata": {},
   "outputs": [],
   "source": [
    "\"\"\"What is abc module in python? Why is it used?"
   ]
  },
  {
   "cell_type": "code",
   "execution_count": null,
   "id": "3970fa97-6421-4766-85c1-3d3fb46e4fcc",
   "metadata": {},
   "outputs": [],
   "source": [
    "--->  This module provides the infrastructure for defining abstract base classes (ABCs) in Python.\n",
    "      The 'abc' module in the Python library provides the infrastructure for defining custom abstract base classes. \n",
    "      Abstract class cannot be instantiated in python. \n",
    "    An Abstract method can be call by its subclasses"
   ]
  },
  {
   "cell_type": "code",
   "execution_count": null,
   "id": "f276e7ed-350b-42a3-9d16-4ed58cdee045",
   "metadata": {},
   "outputs": [],
   "source": [
    "\"\"\"How can we achieve data abstraction?"
   ]
  },
  {
   "cell_type": "code",
   "execution_count": null,
   "id": "65ede8da-e23e-44be-b176-156ccc4e71c7",
   "metadata": {},
   "outputs": [],
   "source": [
    "---->   Data Abstraction can be achieved in several ways:\n",
    "        1. Abstraction using classes\n",
    "        2.Abstraction using modules\n",
    "        3.Abstraction using Abstract Base classes(ABC)"
   ]
  },
  {
   "cell_type": "code",
   "execution_count": null,
   "id": "66169bd3-499d-4289-be4c-8707618f71e2",
   "metadata": {},
   "outputs": [],
   "source": [
    "\"\"\"Can we create an instance of an abstract class? Explain your answer."
   ]
  },
  {
   "cell_type": "code",
   "execution_count": null,
   "id": "76f7a1a5-e962-4d89-8552-2a2f4d038bd5",
   "metadata": {},
   "outputs": [],
   "source": [
    "---->  Abstract classes cannot be instantiated, but they can be subclassed. \n",
    "       When an abstract class is subclassed, the subclass usually provides implementations \n",
    "           for all of the abstract methods in its parent class. \n",
    "       However, if it does not, then the subclass must also be declared abstract. "
   ]
  }
 ],
 "metadata": {
  "kernelspec": {
   "display_name": "Python 3 (ipykernel)",
   "language": "python",
   "name": "python3"
  },
  "language_info": {
   "codemirror_mode": {
    "name": "ipython",
    "version": 3
   },
   "file_extension": ".py",
   "mimetype": "text/x-python",
   "name": "python",
   "nbconvert_exporter": "python",
   "pygments_lexer": "ipython3",
   "version": "3.10.8"
  }
 },
 "nbformat": 4,
 "nbformat_minor": 5
}
